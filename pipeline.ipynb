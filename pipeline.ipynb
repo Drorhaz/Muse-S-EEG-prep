{
 "cells": [
  {
   "cell_type": "code",
   "execution_count": 19,
   "id": "95375323",
   "metadata": {},
   "outputs": [],
   "source": [
    "import matplotlib\n",
    "matplotlib.use('Qt5Agg')\n",
    "\n",
    "import matplotlib.pyplot as plt\n",
    "plt.ion()\n",
    "\n",
    "import mne\n",
    "mne.viz.set_browser_backend('qt')\n",
    "mne.set_log_level('WARNING')\n",
    "\n",
    "import os\n",
    "import numpy as np\n",
    "from prep_function import (annotate_dynamic_p2p, base_filtering,\n",
    "                           load_muse_data, remove_ica_comp_and_plot, run_ica, plot_and_save_psd)\n",
    "from prep_output import export_all_data_to_csv, extract_frequency_bands"
   ]
  },
  {
   "cell_type": "code",
   "execution_count": null,
   "id": "1c09b942",
   "metadata": {},
   "outputs": [],
   "source": []
  },
  {
   "cell_type": "code",
   "execution_count": 20,
   "id": "8b2afc12",
   "metadata": {},
   "outputs": [],
   "source": [
    "csv_path = r\"mindMonitor_2025-05-21--23-26-36.csv\"\n",
    "output_dir = \"final_outputs\"\n",
    "os.makedirs(output_dir, exist_ok=True)"
   ]
  },
  {
   "cell_type": "markdown",
   "id": "58a6f103",
   "metadata": {},
   "source": [
    "## Step 1: loading and interpolating nan values"
   ]
  },
  {
   "cell_type": "code",
   "execution_count": 21,
   "id": "8beff2ba",
   "metadata": {},
   "outputs": [
    {
     "name": "stdout",
     "output_type": "stream",
     "text": [
      "Percentage of NaN values interpolated in EEG data: 6.39%\n"
     ]
    }
   ],
   "source": [
    "raw = load_muse_data(csv_path)"
   ]
  },
  {
   "cell_type": "code",
   "execution_count": 22,
   "id": "59748632",
   "metadata": {},
   "outputs": [
    {
     "data": {
      "text/plain": [
       "<mne_qt_browser._pg_figure.MNEQtBrowser at 0x16d6e04d0>"
      ]
     },
     "execution_count": 22,
     "metadata": {},
     "output_type": "execute_result"
    }
   ],
   "source": [
    "raw.plot()"
   ]
  },
  {
   "cell_type": "markdown",
   "id": "5c046ab6",
   "metadata": {},
   "source": [
    "## Step 2: filtering "
   ]
  },
  {
   "cell_type": "code",
   "execution_count": 23,
   "id": "154eb1a9",
   "metadata": {},
   "outputs": [
    {
     "name": "stdout",
     "output_type": "stream",
     "text": [
      "<Info | 9 non-empty values\n",
      " bads: []\n",
      " ch_names: AF7, AF8, TP9, TP10\n",
      " chs: 4 EEG\n",
      " custom_ref_applied: True\n",
      " dig: 7 items (3 Cardinal, 4 EEG)\n",
      " highpass: 1.0 Hz\n",
      " lowpass: 40.0 Hz\n",
      " meas_date: unspecified\n",
      " nchan: 4\n",
      " projs: []\n",
      " sfreq: 256.0 Hz\n",
      ">\n"
     ]
    }
   ],
   "source": [
    "base_filtering(raw)\n",
    "print(raw.info)"
   ]
  },
  {
   "cell_type": "code",
   "execution_count": 24,
   "id": "ff9d3d5b",
   "metadata": {},
   "outputs": [
    {
     "data": {
      "text/plain": [
       "<mne_qt_browser._pg_figure.MNEQtBrowser at 0x16d0234a0>"
      ]
     },
     "execution_count": 24,
     "metadata": {},
     "output_type": "execute_result"
    }
   ],
   "source": [
    "raw.plot()"
   ]
  },
  {
   "cell_type": "markdown",
   "id": "042b0042",
   "metadata": {},
   "source": [
    "## Step 3: auto-annotating artifacts"
   ]
  },
  {
   "cell_type": "code",
   "execution_count": 25,
   "id": "cdea4322",
   "metadata": {},
   "outputs": [
    {
     "name": "stderr",
     "output_type": "stream",
     "text": [
      "/Users/morzadanaveh/Documents/development/Python/Hackaton/Muse-S-EEG-prep/prep_function.py:79: RuntimeWarning: Limited 1 annotation(s) that were expanding outside the data range.\n",
      "  raw.set_annotations(raw.annotations + new_ann)\n"
     ]
    }
   ],
   "source": [
    "raw = annotate_dynamic_p2p(raw, n_mads=8, win_sec=0.05, step_sec=0.01)"
   ]
  },
  {
   "cell_type": "code",
   "execution_count": 26,
   "id": "0b9d16b8",
   "metadata": {},
   "outputs": [
    {
     "data": {
      "text/plain": [
       "<mne_qt_browser._pg_figure.MNEQtBrowser at 0x176819f40>"
      ]
     },
     "execution_count": 26,
     "metadata": {},
     "output_type": "execute_result"
    }
   ],
   "source": [
    "raw.plot()"
   ]
  },
  {
   "cell_type": "markdown",
   "id": "39cf3c32",
   "metadata": {},
   "source": [
    "<div style=\"\n",
    "     border: 2px solid #d9534f;\n",
    "     background-color: #f2dede;\n",
    "     color: #a94442;\n",
    "     padding: 10px 15px;\n",
    "     border-radius: 4px;\n",
    "     margin: 10px 0;\n",
    "\">\n",
    "<strong>⚠️ IMPORTANT:</strong> To experiment with new parameters:\n",
    "  <ol>\n",
    "    <li>Run the cell below to reset your annotations.</li>\n",
    "    <li>Update the parameters in the function <em>annotate_dynamic_p2p</em> above.</li>\n",
    "    <li>Re-run the cell above with your new settings.</li>\n",
    "  </ol>\n",
    "</div>"
   ]
  },
  {
   "cell_type": "code",
   "execution_count": 27,
   "id": "cd398806",
   "metadata": {},
   "outputs": [],
   "source": [
    "# NOTICE: this line resets the annotations.\n",
    "_ = raw.set_annotations(raw.annotations[np.array(raw.annotations.description) != 'BAD_dynamic'])"
   ]
  },
  {
   "cell_type": "markdown",
   "id": "3a192c17",
   "metadata": {},
   "source": [
    "## Step 4: performing ICA"
   ]
  },
  {
   "cell_type": "markdown",
   "id": "a972d878",
   "metadata": {},
   "source": [
    "Note: The next cell will pop out some plots of the ICA components. Inspect them and decide which ones to remove (if any)."
   ]
  },
  {
   "cell_type": "code",
   "execution_count": 28,
   "id": "e54d160a",
   "metadata": {},
   "outputs": [
    {
     "name": "stderr",
     "output_type": "stream",
     "text": [
      "/Users/morzadanaveh/Documents/development/Python/Hackaton/Muse-S-EEG-prep/prep_function.py:149: RuntimeWarning: Using n_components=4 (resulting in n_components_=4) may lead to an unstable mixing matrix estimation because the ratio between the largest (3.3) and smallest (9.7e-31) variances is too large (> 1e6); consider setting n_components=0.999999 or an integer <= 3\n",
      "  ica.fit(raw, reject_by_annotation=True)\n"
     ]
    }
   ],
   "source": [
    "# Run ICA\n",
    "ica = run_ica(raw)"
   ]
  },
  {
   "cell_type": "code",
   "execution_count": 29,
   "id": "e15ca650",
   "metadata": {},
   "outputs": [],
   "source": [
    "comps_to_remove = [1] # add the component indices you want to remove"
   ]
  },
  {
   "cell_type": "code",
   "execution_count": 30,
   "id": "50bf9f0f",
   "metadata": {},
   "outputs": [],
   "source": [
    "if comps_to_remove:\n",
    "    after_ica = remove_ica_comp_and_plot(ica, raw, comps_to_remove)"
   ]
  },
  {
   "cell_type": "markdown",
   "id": "ff0f5112",
   "metadata": {},
   "source": [
    "## Step 5: extract frequency bands per channel"
   ]
  },
  {
   "cell_type": "code",
   "execution_count": 31,
   "id": "ddd7585a",
   "metadata": {},
   "outputs": [],
   "source": [
    "per_channel_raws = extract_frequency_bands(raw)"
   ]
  },
  {
   "cell_type": "code",
   "execution_count": 32,
   "id": "d5e2adb6",
   "metadata": {},
   "outputs": [
    {
     "data": {
      "text/plain": [
       "<mne_qt_browser._pg_figure.MNEQtBrowser at 0x16d2869f0>"
      ]
     },
     "execution_count": 32,
     "metadata": {},
     "output_type": "execute_result"
    }
   ],
   "source": [
    "per_channel_raws['TP9'].plot()"
   ]
  },
  {
   "cell_type": "markdown",
   "id": "75dc2b8d",
   "metadata": {},
   "source": [
    "## Step 6: plot PSD"
   ]
  },
  {
   "cell_type": "code",
   "execution_count": 33,
   "id": "0d2b65a4",
   "metadata": {},
   "outputs": [],
   "source": [
    "plot_and_save_psd(raw, output_dir, min_duration=1.0)"
   ]
  },
  {
   "cell_type": "markdown",
   "id": "f6d68676",
   "metadata": {},
   "source": [
    "## Step 6: save the data"
   ]
  },
  {
   "cell_type": "code",
   "execution_count": 34,
   "id": "99846c4e",
   "metadata": {},
   "outputs": [],
   "source": [
    "for curr_chan, curr_raw in per_channel_raws.items():\n",
    "    curr_raw.save(os.path.join(output_dir, f\"{curr_chan}_decomposed_raw.fif\"), overwrite=True)"
   ]
  },
  {
   "cell_type": "code",
   "execution_count": 35,
   "id": "1dbb036e",
   "metadata": {},
   "outputs": [
    {
     "name": "stdout",
     "output_type": "stream",
     "text": [
      "Saved combined data to final_outputs/all_channels_with_bands.csv\n"
     ]
    }
   ],
   "source": [
    "csv_path = f'{output_dir}/all_channels_with_bands.csv'\n",
    "export_all_data_to_csv(per_channel_raws, csv_path)"
   ]
  }
 ],
 "metadata": {
  "kernelspec": {
   "display_name": "venv",
   "language": "python",
   "name": "python3"
  },
  "language_info": {
   "codemirror_mode": {
    "name": "ipython",
    "version": 3
   },
   "file_extension": ".py",
   "mimetype": "text/x-python",
   "name": "python",
   "nbconvert_exporter": "python",
   "pygments_lexer": "ipython3",
   "version": "3.13.2"
  }
 },
 "nbformat": 4,
 "nbformat_minor": 5
}
