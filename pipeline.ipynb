{
 "cells": [
  {
   "cell_type": "code",
   "execution_count": null,
   "id": "95375323",
   "metadata": {},
   "outputs": [],
   "source": [
    "import mne\n",
    "mne.set_log_level('WARNING')\n",
    "import numpy as np\n",
    "import matplotlib.pyplot as plt\n",
    "from prep_function import (\n",
    "    load_muse_data, base_filtering,\n",
    "    median_filter_artifact_removal, auto_artifact_rejection, run_ica, annotate_ica_artifacts, annotate_dynamic_p2p\n",
    ")\n",
    "from prep_output import (\n",
    "    plot_annotated_eeg, extract_frequency_bands,\n",
    "    export_cleaned_data, plot_global_brainwaves,\n",
    "    verify_against_reference, export_all_data_to_csv\n",
    ")\n",
    "import os"
   ]
  },
  {
   "cell_type": "code",
   "execution_count": 2,
   "id": "8b2afc12",
   "metadata": {},
   "outputs": [],
   "source": [
    "csv_path = r\"C:\\Users\\shakeda\\Downloads\\mindMonitor_2025-05-23--21-30-11.csv\"\n",
    "output_dir = \"0307_outputs\"\n",
    "os.makedirs(output_dir, exist_ok=True)"
   ]
  },
  {
   "cell_type": "markdown",
   "id": "58a6f103",
   "metadata": {},
   "source": [
    "## Step 1: loading and interpolating nan values"
   ]
  },
  {
   "cell_type": "code",
   "execution_count": null,
   "id": "8beff2ba",
   "metadata": {},
   "outputs": [
    {
     "name": "stdout",
     "output_type": "stream",
     "text": [
      "Precentage of NaN values in EEG data: 5.42%\n"
     ]
    }
   ],
   "source": [
    "raw = load_muse_data(csv_path)"
   ]
  },
  {
   "cell_type": "code",
   "execution_count": 4,
   "id": "59748632",
   "metadata": {},
   "outputs": [
    {
     "data": {
      "text/plain": [
       "<mne_qt_browser._pg_figure.MNEQtBrowser at 0x2a5df4fa720>"
      ]
     },
     "execution_count": 4,
     "metadata": {},
     "output_type": "execute_result"
    }
   ],
   "source": [
    "raw.plot()"
   ]
  },
  {
   "cell_type": "markdown",
   "id": "5c046ab6",
   "metadata": {},
   "source": [
    "## Step 2: filtering "
   ]
  },
  {
   "cell_type": "code",
   "execution_count": 5,
   "id": "154eb1a9",
   "metadata": {},
   "outputs": [
    {
     "name": "stdout",
     "output_type": "stream",
     "text": [
      "<Info | 8 non-empty values\n",
      " bads: []\n",
      " ch_names: AF7, AF8, TP9, TP10\n",
      " chs: 4 EEG\n",
      " custom_ref_applied: True\n",
      " highpass: 1.0 Hz\n",
      " lowpass: 40.0 Hz\n",
      " meas_date: unspecified\n",
      " nchan: 4\n",
      " projs: []\n",
      " sfreq: 256.0 Hz\n",
      ">\n"
     ]
    }
   ],
   "source": [
    "base_filtering(raw)\n",
    "print(raw.info)"
   ]
  },
  {
   "cell_type": "code",
   "execution_count": 8,
   "id": "ff9d3d5b",
   "metadata": {},
   "outputs": [
    {
     "data": {
      "text/plain": [
       "<mne_qt_browser._pg_figure.MNEQtBrowser at 0x2a586f70cb0>"
      ]
     },
     "execution_count": 8,
     "metadata": {},
     "output_type": "execute_result"
    }
   ],
   "source": [
    "raw.plot()"
   ]
  },
  {
   "cell_type": "markdown",
   "id": "042b0042",
   "metadata": {},
   "source": [
    "## Step 3: auto-annotating artifacts"
   ]
  },
  {
   "cell_type": "code",
   "execution_count": 12,
   "id": "cdea4322",
   "metadata": {},
   "outputs": [],
   "source": [
    "raw = annotate_dynamic_p2p(raw, n_mads=8, win_sec=0.05, step_sec=0.01)"
   ]
  },
  {
   "cell_type": "code",
   "execution_count": 13,
   "id": "0b9d16b8",
   "metadata": {},
   "outputs": [
    {
     "data": {
      "text/plain": [
       "<mne_qt_browser._pg_figure.MNEQtBrowser at 0x2a589e53ad0>"
      ]
     },
     "execution_count": 13,
     "metadata": {},
     "output_type": "execute_result"
    }
   ],
   "source": [
    "raw.plot()"
   ]
  },
  {
   "cell_type": "markdown",
   "id": "39cf3c32",
   "metadata": {},
   "source": [
    "<div style=\"\n",
    "     border: 2px solid #d9534f;\n",
    "     background-color: #f2dede;\n",
    "     color: #a94442;\n",
    "     padding: 10px 15px;\n",
    "     border-radius: 4px;\n",
    "     margin: 10px 0;\n",
    "\">\n",
    "<strong>⚠️ IMPORTANT:</strong> To experiment with new parameters:\n",
    "  <ol>\n",
    "    <li>Run the cell below to reset your annotations.</li>\n",
    "    <li>Update the parameters in the function <em>annotate_dynamic_p2p</em> above.</li>\n",
    "    <li>Re-run the cell above with your new settings.</li>\n",
    "  </ol>\n",
    "</div>"
   ]
  },
  {
   "cell_type": "code",
   "execution_count": 11,
   "id": "cd398806",
   "metadata": {},
   "outputs": [],
   "source": [
    "# NOTICE: this line resets the annotations.\n",
    "_ = raw.set_annotations(raw.annotations[np.array(raw.annotations.description) != 'BAD_dynamic'])"
   ]
  },
  {
   "cell_type": "markdown",
   "id": "3a192c17",
   "metadata": {},
   "source": [
    "## Step 4: performing ICA"
   ]
  },
  {
   "cell_type": "code",
   "execution_count": null,
   "id": "50bf9f0f",
   "metadata": {},
   "outputs": [],
   "source": [
    "# Call ICA"
   ]
  },
  {
   "cell_type": "markdown",
   "id": "ff0f5112",
   "metadata": {},
   "source": [
    "## Step 5: extract frequency bands per channel"
   ]
  },
  {
   "cell_type": "code",
   "execution_count": 14,
   "id": "ddd7585a",
   "metadata": {},
   "outputs": [],
   "source": [
    "per_channel_raws = extract_frequency_bands(raw)"
   ]
  },
  {
   "cell_type": "code",
   "execution_count": null,
   "id": "d5e2adb6",
   "metadata": {},
   "outputs": [
    {
     "data": {
      "text/plain": [
       "<mne_qt_browser._pg_figure.MNEQtBrowser at 0x2a58e2e5d90>"
      ]
     },
     "execution_count": 21,
     "metadata": {},
     "output_type": "execute_result"
    }
   ],
   "source": [
    "per_channel_raws['TP9'].plot()"
   ]
  },
  {
   "cell_type": "markdown",
   "id": "f6d68676",
   "metadata": {},
   "source": [
    "## Step 6: save the data"
   ]
  },
  {
   "cell_type": "code",
   "execution_count": 22,
   "id": "99846c4e",
   "metadata": {},
   "outputs": [],
   "source": [
    "for curr_chan, curr_raw in per_channel_raws.items():\n",
    "    curr_raw.save(os.path.join(output_dir, f\"{curr_chan}_decomposed_raw.fif\"))"
   ]
  },
  {
   "cell_type": "code",
   "execution_count": null,
   "id": "1dbb036e",
   "metadata": {},
   "outputs": [
    {
     "name": "stdout",
     "output_type": "stream",
     "text": [
      "Saved combined data to 0307_outputs/all_channels_with_bands.csv\n"
     ]
    }
   ],
   "source": [
    "csv_path = f'{output_dir}/all_channels_with_bands.csv'\n",
    "export_all_data_to_csv(raw, csv_path)"
   ]
  }
 ],
 "metadata": {
  "kernelspec": {
   "display_name": "Python 3",
   "language": "python",
   "name": "python3"
  },
  "language_info": {
   "codemirror_mode": {
    "name": "ipython",
    "version": 3
   },
   "file_extension": ".py",
   "mimetype": "text/x-python",
   "name": "python",
   "nbconvert_exporter": "python",
   "pygments_lexer": "ipython3",
   "version": "3.12.1"
  }
 },
 "nbformat": 4,
 "nbformat_minor": 5
}
